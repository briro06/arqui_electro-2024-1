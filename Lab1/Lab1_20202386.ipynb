{
  "nbformat": 4,
  "nbformat_minor": 0,
  "metadata": {
    "colab": {
      "provenance": []
    },
    "kernelspec": {
      "name": "python3",
      "display_name": "Python 3"
    },
    "language_info": {
      "name": "python"
    }
  },
  "cells": [
    {
      "cell_type": "markdown",
      "source": [
        "Pregunta 1- Parte Calificada"
      ],
      "metadata": {
        "id": "VYQZTTH18u-2"
      }
    },
    {
      "cell_type": "code",
      "execution_count": 49,
      "metadata": {
        "colab": {
          "base_uri": "https://localhost:8080/"
        },
        "id": "miv8Rp3u72PL",
        "outputId": "0fcfb3e8-09e2-4ff1-8abc-19c663c40aa7"
      },
      "outputs": [
        {
          "output_type": "stream",
          "name": "stdout",
          "text": [
            "Overwriting pregunta1.c\n"
          ]
        }
      ],
      "source": [
        "%%file pregunta1.c\n",
        "#include<stdio.h>\n",
        "#include<stdlib.h>\n",
        "#include<math.h>\n",
        "\n",
        "//Función que es la encargada de calcular las potencias\n",
        "//del tercer argumento dentro del numero inferior y superior\n",
        "void numero_potencias(int inferior,int superior, int numero){\n",
        "    int num_potencias=0;\n",
        "    for(int i=0;i<=superior;i++){\n",
        "        int potencia=pow(numero,i);\n",
        "        if((potencia<=superior)&&(potencia>=inferior)){\n",
        "            num_potencias++;\n",
        "        }\n",
        "    }\n",
        "    printf(\"Hay %d potencias de %d en este rango\\n\",num_potencias,numero);\n",
        "}\n",
        "\n",
        "//Función que se encarga de calcular el numero de primos dentro\n",
        "//de un valor inferior o superior\n",
        "void numero_primos(int A,int B){\n",
        "    int cant_primos=0;\n",
        "    for(int num=A;num<=B;num++){\n",
        "        int fl=1;\n",
        "        for(int i=2;i<num;i++){\n",
        "          if(num%i==0){\n",
        "              fl=0;\n",
        "          }\n",
        "        }\n",
        "        if(fl==0){\n",
        "            cant_primos=cant_primos;\n",
        "        }else{\n",
        "          cant_primos=cant_primos+1;\n",
        "        }\n",
        "    }\n",
        "    if(A==1){\n",
        "        cant_primos=cant_primos-1;\n",
        "    }\n",
        "    printf(\"La cantidad de numeros primos es: %d\\n\",cant_primos);\n",
        "}\n",
        "\n",
        "//Función principal que ejecutará todo lo pedido\n",
        "int main (int argc, char *argv[]){\n",
        "  int A=atoi(argv[1]);\n",
        "  int B=atoi(argv[2]);\n",
        "  int C=atoi(argv[3]);\n",
        "  if(C==1){\n",
        "      numero_primos(A,B);\n",
        "  }else if(C>=2){\n",
        "      numero_potencias(A,B,C);\n",
        "  }\n",
        "  return 0;\n",
        "}"
      ]
    },
    {
      "cell_type": "code",
      "source": [
        "%%shell\n",
        "gcc pregunta1.c -o pregunta1 -lm\n",
        "./pregunta1 7 100 3"
      ],
      "metadata": {
        "id": "1UPPdQzf-74v",
        "colab": {
          "base_uri": "https://localhost:8080/"
        },
        "outputId": "31495927-85c0-4572-b182-1e92e92a357a"
      },
      "execution_count": 50,
      "outputs": [
        {
          "output_type": "stream",
          "name": "stdout",
          "text": [
            "Hay 3 potencias de 3 en este rango\n"
          ]
        },
        {
          "output_type": "execute_result",
          "data": {
            "text/plain": []
          },
          "metadata": {},
          "execution_count": 50
        }
      ]
    },
    {
      "cell_type": "markdown",
      "source": [
        "Pregunta 2-Parte Calificada"
      ],
      "metadata": {
        "id": "adSLMR-u-ITE"
      }
    },
    {
      "cell_type": "code",
      "source": [
        "%%file pregunta2.py\n",
        "\n",
        "#Definimos nuestra función que calcula el numero de primos\n",
        "#trabaja de manera similar a nuestra pregunta1 con la\n",
        "#diferencia que cambia de sintaxis\n",
        "def numero_primos(A,B):\n",
        "  cant_primos=0\n",
        "  num=A\n",
        "  while num<=B:\n",
        "    fl=1\n",
        "    i=2\n",
        "    while i<num:\n",
        "      if(num%i==0):\n",
        "        fl=0\n",
        "      i=i+1\n",
        "    if(fl==0):\n",
        "      cant_primos=cant_primos\n",
        "    else:\n",
        "      cant_primos=cant_primos+1\n",
        "    num=num+1\n",
        "  if(A==1):\n",
        "    cant_primos=cant_primos-1\n",
        "  print(f\"La cantidad de numeros primos es {cant_primos}\\n\")\n",
        "\n",
        "#Definimos nuestra función que calcula el numero de potencias del tercer argumento\n",
        "#entre los valores inferior y superior\n",
        "def numero_potencias(inferior,superior,numero):\n",
        "  num_potencias=0\n",
        "  i=0\n",
        "  while i<=superior:\n",
        "    potencia=numero**i\n",
        "    if ((potencia<=superior) and (potencia>=inferior)):\n",
        "      num_potencias=num_potencias+1\n",
        "    i=i+1\n",
        "  print(f\"Hay {num_potencias} potencias de {numero} en este rango\\n\")\n",
        "\n",
        "#Nuestra función principal encargada de realizar todo lo pedido\n",
        "import sys\n",
        "A=int(sys.argv[1])\n",
        "B=int(sys.argv[2])\n",
        "C=int(sys.argv[3])\n",
        "if C==1:\n",
        "  numero_primos(A,B)\n",
        "elif C>=2:\n",
        "  numero_potencias(A,B,C)\n",
        "sys.exit(0)"
      ],
      "metadata": {
        "id": "PfRZERMhq0V0",
        "colab": {
          "base_uri": "https://localhost:8080/"
        },
        "outputId": "218389ab-c407-4ffd-d295-d5ce30eada98"
      },
      "execution_count": 51,
      "outputs": [
        {
          "output_type": "stream",
          "name": "stdout",
          "text": [
            "Overwriting pregunta2.py\n"
          ]
        }
      ]
    },
    {
      "cell_type": "code",
      "source": [
        "%%shell\n",
        "python3 pregunta2.py 1 12 2"
      ],
      "metadata": {
        "id": "RIqGTliXAoHM",
        "colab": {
          "base_uri": "https://localhost:8080/"
        },
        "outputId": "18876ca7-fc76-43af-c5ac-bfff0a4307c8"
      },
      "execution_count": 52,
      "outputs": [
        {
          "output_type": "stream",
          "name": "stdout",
          "text": [
            "Hay 4 potencias de 2 en este rango\n",
            "\n"
          ]
        },
        {
          "output_type": "execute_result",
          "data": {
            "text/plain": []
          },
          "metadata": {},
          "execution_count": 52
        }
      ]
    },
    {
      "cell_type": "markdown",
      "source": [
        "Pregunta 3- Parte Calificada"
      ],
      "metadata": {
        "id": "xYtpVH3IAoVJ"
      }
    },
    {
      "cell_type": "markdown",
      "source": [
        "Parte a)"
      ],
      "metadata": {
        "id": "I9SCjb2bFbn2"
      }
    },
    {
      "cell_type": "code",
      "source": [
        "%%file pregunta3.sh\n",
        "\n",
        "echo \"Nombre:Brian Morales , código: $1\"\n",
        "\n"
      ],
      "metadata": {
        "colab": {
          "base_uri": "https://localhost:8080/"
        },
        "id": "XJGgWFF8Aruw",
        "outputId": "5e612721-a9b0-4b43-e396-5be54169cc4e"
      },
      "execution_count": 53,
      "outputs": [
        {
          "output_type": "stream",
          "name": "stdout",
          "text": [
            "Overwriting pregunta3.sh\n"
          ]
        }
      ]
    },
    {
      "cell_type": "code",
      "source": [
        "! bash pregunta3.sh 20202386"
      ],
      "metadata": {
        "colab": {
          "base_uri": "https://localhost:8080/"
        },
        "id": "fl67IPVuDJao",
        "outputId": "d1ef496c-4946-4514-a978-7e989f7aa725"
      },
      "execution_count": 54,
      "outputs": [
        {
          "output_type": "stream",
          "name": "stdout",
          "text": [
            "Nombre:Brian Morales , código: 20202386\n"
          ]
        }
      ]
    },
    {
      "cell_type": "markdown",
      "source": [
        "Parte b)"
      ],
      "metadata": {
        "id": "4jeNpXuaFd3n"
      }
    },
    {
      "cell_type": "code",
      "source": [
        "%%shell\n",
        "mkdir Pregunta1\n",
        "mkdir Pregunta2\n",
        "chmod 777 Pregunta1\n",
        "chmod 777 Pregunta2"
      ],
      "metadata": {
        "colab": {
          "base_uri": "https://localhost:8080/"
        },
        "id": "a6_UsMmoFfxd",
        "outputId": "8bbb0522-56ae-4fba-a102-a323072ad7f4"
      },
      "execution_count": 55,
      "outputs": [
        {
          "output_type": "stream",
          "name": "stdout",
          "text": [
            "mkdir: cannot create directory ‘Pregunta1’: File exists\n",
            "mkdir: cannot create directory ‘Pregunta2’: File exists\n"
          ]
        },
        {
          "output_type": "execute_result",
          "data": {
            "text/plain": []
          },
          "metadata": {},
          "execution_count": 55
        }
      ]
    },
    {
      "cell_type": "code",
      "source": [
        "! ls -l"
      ],
      "metadata": {
        "colab": {
          "base_uri": "https://localhost:8080/"
        },
        "id": "pH62UOrRMMYQ",
        "outputId": "c1bec787-c372-4e9b-dadb-3e890fc2a74f"
      },
      "execution_count": 56,
      "outputs": [
        {
          "output_type": "stream",
          "name": "stdout",
          "text": [
            "total 44\n",
            "-rwxr-xr-x 1 root root 16128 Mar 24 02:46 pregunta1\n",
            "drwxrwxrwx 2 root root  4096 Mar 24 02:03 Pregunta1\n",
            "-rw-r--r-- 1 root root  1321 Mar 24 02:45 pregunta1.c\n",
            "drwxrwxrwx 2 root root  4096 Mar 24 02:03 Pregunta2\n",
            "-rw-r--r-- 1 root root  1124 Mar 24 02:46 pregunta2.py\n",
            "-rw-r--r-- 1 root root    44 Mar 24 02:46 pregunta3.sh\n",
            "-rw-r--r-- 1 root root   238 Mar 24 02:38 pregunta4.sh\n",
            "drwxr-xr-x 1 root root  4096 Mar 21 13:23 sample_data\n"
          ]
        }
      ]
    },
    {
      "cell_type": "markdown",
      "source": [
        "Parte c)"
      ],
      "metadata": {
        "id": "LZbMTjgH8bVE"
      }
    },
    {
      "cell_type": "code",
      "source": [
        "! cp pregunta1.c Pregunta1/"
      ],
      "metadata": {
        "id": "0l-8r4mY4FKP"
      },
      "execution_count": 57,
      "outputs": []
    },
    {
      "cell_type": "markdown",
      "source": [
        "Parte d)"
      ],
      "metadata": {
        "id": "5Rntv-S48d0e"
      }
    },
    {
      "cell_type": "code",
      "source": [
        "! mv pregunta2.py Pregunta2/"
      ],
      "metadata": {
        "id": "7q23txVE4WSy"
      },
      "execution_count": 58,
      "outputs": []
    },
    {
      "cell_type": "markdown",
      "source": [
        "Parte e)"
      ],
      "metadata": {
        "id": "a9yP2zOA8g7S"
      }
    },
    {
      "cell_type": "code",
      "source": [
        "%%file pregunta3.sh\n",
        "\n",
        "echo \"Nombre:Brian Morales , código: $1\"\n",
        "\n",
        "gcc pregunta1.c -o pregunta1 -lm\n",
        "./pregunta1 $2 $3 $4"
      ],
      "metadata": {
        "colab": {
          "base_uri": "https://localhost:8080/"
        },
        "id": "b6RLS1qa8rUC",
        "outputId": "662ff717-a599-42dc-c66c-8c82baa77c29"
      },
      "execution_count": 59,
      "outputs": [
        {
          "output_type": "stream",
          "name": "stdout",
          "text": [
            "Overwriting pregunta3.sh\n"
          ]
        }
      ]
    },
    {
      "cell_type": "code",
      "source": [
        "%%shell\n",
        "time bash pregunta3.sh 20202386 1 12 1"
      ],
      "metadata": {
        "colab": {
          "base_uri": "https://localhost:8080/"
        },
        "id": "U29xW-0h-xlC",
        "outputId": "5fbfe075-a74c-4612-8dd3-28b1dbb0b5d0"
      },
      "execution_count": 60,
      "outputs": [
        {
          "output_type": "stream",
          "name": "stdout",
          "text": [
            "Nombre:Brian Morales , código: 20202386\n",
            "La cantidad de numeros primos es: 5\n",
            "\n",
            "real\t0m0.090s\n",
            "user\t0m0.056s\n",
            "sys\t0m0.031s\n"
          ]
        },
        {
          "output_type": "execute_result",
          "data": {
            "text/plain": []
          },
          "metadata": {},
          "execution_count": 60
        }
      ]
    },
    {
      "cell_type": "markdown",
      "source": [
        "Parte f)"
      ],
      "metadata": {
        "id": "k9cuXYpDAx0Y"
      }
    },
    {
      "cell_type": "code",
      "source": [
        "%%file pregunta3.sh\n",
        "\n",
        "echo \"Nombre:Brian Morales , código: $1\"\n",
        "\n",
        "python3 Pregunta2/pregunta2.py $2 $3 $4"
      ],
      "metadata": {
        "colab": {
          "base_uri": "https://localhost:8080/"
        },
        "id": "TIsYRWn5-69c",
        "outputId": "05b9bc4a-c70b-4637-c780-66d7ab3856e2"
      },
      "execution_count": 61,
      "outputs": [
        {
          "output_type": "stream",
          "name": "stdout",
          "text": [
            "Overwriting pregunta3.sh\n"
          ]
        }
      ]
    },
    {
      "cell_type": "code",
      "source": [
        "%%shell\n",
        "time bash pregunta3.sh 20202386 1 12 1"
      ],
      "metadata": {
        "colab": {
          "base_uri": "https://localhost:8080/"
        },
        "id": "Z_skR03lBNnc",
        "outputId": "c11d3c08-ebcd-41ee-d49b-c97f9b2fa413"
      },
      "execution_count": 62,
      "outputs": [
        {
          "output_type": "stream",
          "name": "stdout",
          "text": [
            "Nombre:Brian Morales , código: 20202386\n",
            "La cantidad de numeros primos es 5\n",
            "\n",
            "\n",
            "real\t0m0.047s\n",
            "user\t0m0.033s\n",
            "sys\t0m0.013s\n"
          ]
        },
        {
          "output_type": "execute_result",
          "data": {
            "text/plain": []
          },
          "metadata": {},
          "execution_count": 62
        }
      ]
    },
    {
      "cell_type": "markdown",
      "source": [
        "Pregunta 4)"
      ],
      "metadata": {
        "id": "p8ahjg3zQiyP"
      }
    },
    {
      "cell_type": "code",
      "source": [
        "%%file pregunta4.sh\n",
        "if [ $# != 3 ]\n",
        "then\n",
        "    echo \"Debe ingresar 3 argumentos de entrada\"\n",
        "    exit 1\n",
        "fi\n",
        "input1=$1\n",
        "input2=$2\n",
        "input3=$3\n",
        "#Como no se especifica que archivo en C y python se debe ejecutar\n",
        "#opte por ejecutar los archivos que previamente habia creado cumpliendo\n",
        "#con la condición de que deben ser ingresados 3 argumentos de entrada\n",
        "gcc pregunta1.c -o pregunta1 -lm\n",
        "./pregunta1 $input1 $input2 $input3\n",
        "\n",
        "python3 Pregunta2/pregunta2.py $input1 $input2 $input3"
      ],
      "metadata": {
        "colab": {
          "base_uri": "https://localhost:8080/"
        },
        "id": "XZqZIcP3Qlxc",
        "outputId": "346f3f84-5b2d-4e7d-b66d-5fe917f9c582"
      },
      "execution_count": 63,
      "outputs": [
        {
          "output_type": "stream",
          "name": "stdout",
          "text": [
            "Overwriting pregunta4.sh\n"
          ]
        }
      ]
    },
    {
      "cell_type": "code",
      "source": [
        "! bash pregunta4.sh 1 4 1"
      ],
      "metadata": {
        "colab": {
          "base_uri": "https://localhost:8080/"
        },
        "id": "_CzYDz1oR8ZY",
        "outputId": "2bbf73b7-f2b9-4ba9-9520-f20c5bf0cff8"
      },
      "execution_count": 64,
      "outputs": [
        {
          "output_type": "stream",
          "name": "stdout",
          "text": [
            "La cantidad de numeros primos es: 2\n",
            "La cantidad de numeros primos es 2\n",
            "\n"
          ]
        }
      ]
    }
  ]
}