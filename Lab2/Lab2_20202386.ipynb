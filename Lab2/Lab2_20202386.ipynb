{
  "cells": [
    {
      "cell_type": "markdown",
      "metadata": {
        "id": "CopLs4fG2E1f"
      },
      "source": [
        "## Laboratorio 02 - H0622 ( Horario viernes )"
      ]
    },
    {
      "cell_type": "markdown",
      "metadata": {
        "id": "f6cpipYK2E1l"
      },
      "source": [
        "# Pregunta 1 (6 puntos)\n",
        "\n",
        "Implementar en C un programa que realice lo siguiente:\n",
        "\n",
        "* Crear un arreglo 'B' haciendo uso de memoria dinámica. Posteriormente, debe completar ese arreglos con números aleatorios de tipo _float_ y esperando recibir $N$ elementos\n",
        "* Recibir 'N' por el terminal.\n",
        "* Desarrollar una función que determine el valor máximo en el arreglo, usando punteros para acceder y comparar los elementos.\n",
        "* Desarrollar otra función que encuentre el valor mínimo en el arreglo, también utilizando punteros.\n",
        "* Imprimir el arreglo y los resultados del valor máximo y mínimo para $N = 5$ y $N = 8$."
      ]
    },
    {
      "cell_type": "code",
      "execution_count": 42,
      "metadata": {
        "colab": {
          "base_uri": "https://localhost:8080/"
        },
        "id": "GBrlSthH2E1m",
        "outputId": "404d16f9-99e1-41fa-abec-f8fc913f2d07"
      },
      "outputs": [
        {
          "output_type": "stream",
          "name": "stdout",
          "text": [
            "Overwriting pregunta1.c\n"
          ]
        }
      ],
      "source": [
        "%%file pregunta1.c\n",
        "\n",
        "//Escriba su código aquí\n",
        "#include<stdio.h>\n",
        "#include<stdlib.h>\n",
        "#include<time.h>\n",
        "void ini_arreglo(float *arreglo,int N);\n",
        "void max_Elemento(float *arreglo, int N,float *sup);\n",
        "void min_Elemento(float *arreglo, int N,float *inf);\n",
        "\n",
        "int main(int argc, char *argv[]){\n",
        "\n",
        "    int N=atoi(argv[1]); //Tamaño arreglo\n",
        "\n",
        "    //Reservamos espacio de memoria para el arreglo\n",
        "    float *arreglo = (float*)malloc(N * sizeof(float));\n",
        "\n",
        "    //Inicializamos el vector con numeros aleatorios\n",
        "    ini_arreglo(arreglo,N);\n",
        "\n",
        "\n",
        "    //Hallamos el maximo valor del arreglo\n",
        "    float max_valor=0;\n",
        "    max_Elemento(arreglo,N,&max_valor);\n",
        "\n",
        "    //Hallamos el mínimo valor del arreglo\n",
        "    float min_valor=200;\n",
        "    min_Elemento(arreglo,N,&min_valor);\n",
        "\n",
        "    //Imprimimos el arreglo y sus valores máximo y mínimo\n",
        "    for(int i=0;i<N;i++){\n",
        "        printf(\"%f \",arreglo[i]);\n",
        "    }\n",
        "\n",
        "    printf(\"\\r\\nEl maximo valor es: %f\",max_valor);\n",
        "    printf(\"\\r\\nEl mínimo valor es: %f\",min_valor);\n",
        "\n",
        "    return 0;\n",
        "}\n",
        "\n",
        "void ini_arreglo(float *arreglo,int N){\n",
        "    //Generemos un arreglo con numeros aleatorio entre 0 a 100 gracias a la función srand\n",
        "    //podemos  hallar un número aleatorio entre 0 y 1000 y dividir el resultado entre 10\n",
        "    //para asi tener un número flotante entre 0 a 100\n",
        "    int inf=0,sup=1000;\n",
        "    float random;\n",
        "    srand(time(NULL));\n",
        "    for(int i=0;i<N;i++){\n",
        "        random=inf+rand() % (sup-inf+1);\n",
        "        random=random/10;\n",
        "        arreglo[i]=random;\n",
        "    }\n",
        "}\n",
        "\n",
        "void max_Elemento(float *arreglo, int N,float *sup){\n",
        "    //Nuestra función consta de 3 elementos los cuales con el arreglo, su longitud y el puntero a una variable\n",
        "    //la cual ira iterando para tener su valor final el cual será el máximo del arreglo\n",
        "\n",
        "    float *inicio = arreglo; //Puntero al primer elemento del arreglo\n",
        "    float *fin = arreglo + N - 1; // Puntero al último elemento\n",
        "    while(inicio<=fin){\n",
        "        if((*inicio)>(*sup)){\n",
        "            (*sup)=(*inicio);\n",
        "        }\n",
        "        inicio++; //La dirección de memoria va aumentando para que apunte a cada elemento del arreglo\n",
        "    }\n",
        "}\n",
        "\n",
        "void min_Elemento(float *arreglo, int N,float *inf){\n",
        "    //Nuestra función consta de 3 elementos los cuales con el arreglo, su longitud y el puntero a una variable\n",
        "    //la cual ira iterando para tener su valor final el cual será el mínimo del arreglo\n",
        "\n",
        "    float *inicio = arreglo; //Puntero al primer elemento del arreglo\n",
        "    float *fin = arreglo + N - 1; // Puntero al último elemento\n",
        "    while(inicio<=fin){\n",
        "        if((*inicio)<(*inf)){\n",
        "            (*inf)=(*inicio);\n",
        "        }\n",
        "        inicio++; //La dirección de memoria va aumentando para que apunte a cada elemento del arreglo\n",
        "    }\n",
        "}"
      ]
    },
    {
      "cell_type": "code",
      "source": [
        "! gcc pregunta1.c -o pregunta1 && ./pregunta1 5"
      ],
      "metadata": {
        "colab": {
          "base_uri": "https://localhost:8080/"
        },
        "id": "zmQ-xKX15wrB",
        "outputId": "e638e982-833d-4ad4-b40c-ddcf55895c81"
      },
      "execution_count": 43,
      "outputs": [
        {
          "output_type": "stream",
          "name": "stdout",
          "text": [
            "89.900002 68.800003 5.500000 58.099998 10.600000 \r\n",
            "El maximo valor es: 89.900002\r\n",
            "El mínimo valor es: 5.500000"
          ]
        }
      ]
    },
    {
      "cell_type": "code",
      "source": [
        "! gcc pregunta1.c -o pregunta1 && ./pregunta1 8"
      ],
      "metadata": {
        "colab": {
          "base_uri": "https://localhost:8080/"
        },
        "id": "Fgsfwrhi_4vf",
        "outputId": "3b20eb7a-92c3-48f4-af26-fa13a02b49d4"
      },
      "execution_count": 44,
      "outputs": [
        {
          "output_type": "stream",
          "name": "stdout",
          "text": [
            "78.099998 25.400000 20.400000 71.099998 77.300003 20.200001 66.400002 99.199997 \r\n",
            "El maximo valor es: 99.199997\r\n",
            "El mínimo valor es: 20.200001"
          ]
        }
      ]
    },
    {
      "cell_type": "markdown",
      "metadata": {
        "id": "07mdTkwC2E1n"
      },
      "source": [
        "# Pregunta 2 (4 puntos)\n",
        "Implementar en C un programa que haga lo siguiente:\n",
        "\n",
        "* Reservar memoria para almacenar dos números enteros.\n",
        "* Leer dos números enteros desde el terminal y almacenarlos en la memoria reservada.\n",
        "* Crear una función que calcule e imprima el máximo común divisor (MCD) de los dos números usando punteros.\n"
      ]
    },
    {
      "cell_type": "code",
      "execution_count": 60,
      "metadata": {
        "colab": {
          "base_uri": "https://localhost:8080/"
        },
        "id": "5d0nPGQs2E1o",
        "outputId": "11e091f5-650f-4746-f429-1d4420517546"
      },
      "outputs": [
        {
          "output_type": "stream",
          "name": "stdout",
          "text": [
            "Overwriting pregunta2.c\n"
          ]
        }
      ],
      "source": [
        "%%file pregunta2.c\n",
        "\n",
        "//Escriba su código aquí\n",
        "#include<stdio.h>\n",
        "#include<stdlib.h>\n",
        "void ini_vector(int *arreglo,int a, int b);\n",
        "void maximo_comun_divisor(int a, int b,int *temporal);\n",
        "void maximo_comun_divisor(int a, int b,int *temporal);\n",
        "\n",
        "int main(int argc, char *argv[]){\n",
        "    int num1=atoi(argv[1]); //Primer número\n",
        "    int num2=atoi(argv[2]); //Segundo número\n",
        "\n",
        "    //Guardamos espacio de memoria para el arreglo de 2 elementos\n",
        "    int *arreglo = (int*)malloc(2 * sizeof(int));\n",
        "\n",
        "    //Guardamos ambos numeros dentro del arreglo\n",
        "    ini_vector(arreglo,num1,num2);\n",
        "\n",
        "    //Imprimimos el arreglo para saber que se guardo correctamente los valores\n",
        "    for(int i=0;i<2;i++){\n",
        "        printf(\"%d \",arreglo[i]);\n",
        "    }\n",
        "\n",
        "    //Ahora hallaremos su MCD\n",
        "    int mcd;\n",
        "    maximo_comun_divisor(num1,num2,&mcd);\n",
        "\n",
        "    return 0;\n",
        "}\n",
        "void ini_vector(int *arreglo,int a, int b){\n",
        "    arreglo[0]=a;\n",
        "    arreglo[1]=b;\n",
        "}\n",
        "\n",
        "void maximo_comun_divisor(int a, int b,int *temporal){\n",
        "    //Para no perder b utilizamos el puntero de la variable temporal\n",
        "    while (b != 0) {\n",
        "        (*temporal) = b;\n",
        "        b = a % b;\n",
        "    }\n",
        "    printf(\"\\r\\nEl maximo comun divisor de los dos números será: %d\",*temporal);\n",
        "}\n",
        "\n",
        "\n"
      ]
    },
    {
      "cell_type": "code",
      "source": [
        "! gcc pregunta2.c -o pregunta2 && ./pregunta2 14 4"
      ],
      "metadata": {
        "colab": {
          "base_uri": "https://localhost:8080/"
        },
        "id": "FjqlYHo8Cnum",
        "outputId": "7874fce6-de54-4588-b2cd-b50ad7dcb661"
      },
      "execution_count": 62,
      "outputs": [
        {
          "output_type": "stream",
          "name": "stdout",
          "text": [
            "14 4 \r\n",
            "El maximo comun divisor de los dos números será: 2"
          ]
        }
      ]
    },
    {
      "cell_type": "markdown",
      "metadata": {
        "id": "EUbVHD1W2E1p"
      },
      "source": [
        "# Pregunta 3 (4 puntos)\n",
        "\n",
        "Implementar un programa en C que haga lo siguiente:\n",
        "\n",
        "* Leer una cadena de texto del terminal y almacenarla usando memoria dinámica.\n",
        "* Crear una función que determine si la cadena contiene alguna vocal.\n",
        "* Crear una función que cuente la cantidad de palabras en la cadena.\n",
        "* Imprimir la cadena original, si contiene o no vocales, y la cantidad de palabras.\n",
        "* Crear una cadena con valores aleatorios de tamaño N\n",
        "* Imprimir los resultados para $N = 10, 20 y 30 $, adjunte los resultados de sus mediciones en una tabla. Así mismo, indicar los punteros de las nuevas cadenas generadas por su algoritmo"
      ]
    },
    {
      "cell_type": "code",
      "execution_count": 136,
      "metadata": {
        "colab": {
          "base_uri": "https://localhost:8080/"
        },
        "id": "yQZJaY4T2E1p",
        "outputId": "f2a943dc-141f-41da-fdcd-af0968ec4a82"
      },
      "outputs": [
        {
          "output_type": "stream",
          "name": "stdout",
          "text": [
            "Overwriting pregunta3.c\n"
          ]
        }
      ],
      "source": [
        "%%file pregunta3.c\n",
        "\n",
        "//Escriba su código aquí\n",
        "#include<stdio.h>\n",
        "#include<stdlib.h>\n",
        "#include<string.h>\n",
        "#include<time.h>\n",
        "void existe_vocal(char *arreglo,int N);\n",
        "void existe_palabra(char *arreglo,int N);\n",
        "int aleatorio_en_rango(int minimo, int maximo);\n",
        "void arreglo_aleatorio(char *arreglo,int N);\n",
        "\n",
        "int main(int argc, char *argv[]){\n",
        "\n",
        "    //Reservamos memoria para la cadena con un tamaño de 1000\n",
        "    char *arreglo = (char*)malloc(1000 * sizeof(char));\n",
        "\n",
        "    //Recibimos la cadena de texto\n",
        "    char *cadena1=argv[1]; //Cadena de texto\n",
        "\n",
        "    //Introducimos la cadena dentro del arreglo\n",
        "    strcpy(arreglo,cadena1);\n",
        "\n",
        "    //Hallamos la verdadera longitud de la cadena de texto\n",
        "    int longitud=0;\n",
        "      while(arreglo[longitud]!= '\\0'){\n",
        "      longitud++;\n",
        "    }\n",
        "    //printf(\"La verdadera longitud de la cadena de texto es: %d\\r\\n\",longitud);\n",
        "    //Utilizamos realloc para reservar el espacio de memoria que realmente necesitamos\n",
        "    arreglo = (char*)realloc(arreglo, longitud * sizeof(char));\n",
        "\n",
        "\n",
        "    //Verificamos que la cadena este dentro del arreglo\n",
        "    for(int i=0;i<longitud;i++){\n",
        "        printf(\"%c \",arreglo[i]);\n",
        "    }\n",
        "\n",
        "    //Hallamos si existe o no vocal\n",
        "    existe_vocal(arreglo,longitud);\n",
        "\n",
        "    //Hallamos cuantas palabras existen\n",
        "    existe_palabra(arreglo,longitud);\n",
        "\n",
        "    //Necesitmaos ingresar por terminal el valor de N\n",
        "    int N=atoi(argv[2]);\n",
        "\n",
        "    //Reservamos memoria para el nuevo arreglo\n",
        "    char *arreglo_n = (char*)malloc(N * sizeof(char));\n",
        "    arreglo_aleatorio(arreglo_n,N);\n",
        "\n",
        "    return 0;\n",
        "\n",
        "}\n",
        "\n",
        "void existe_vocal(char *arreglo,int N){\n",
        "    int bandera=0;\n",
        "    for(int i=0;i<N;i++){\n",
        "        if(arreglo[i]=='a'|| arreglo[i]=='e'|| arreglo[i]=='i'|| arreglo[i]=='o'|| arreglo[i]=='u' ){\n",
        "            bandera=1;\n",
        "        }\n",
        "    }\n",
        "    if(bandera==1){\n",
        "        printf(\"\\r\\nExiste vocal dentro de la cadena de texto\");\n",
        "    }else{\n",
        "        printf(\"\\r\\nNo existe vocal dentro de la cadena de texto\");\n",
        "    }\n",
        "}\n",
        "\n",
        "void existe_palabra(char *arreglo,int N){\n",
        "    int palabra=0;\n",
        "    for(int i=0;i<N;i++){\n",
        "        //Cada que halla espacio nos indica el fin de una palabra y el incio de otra\n",
        "        if(arreglo[i]==' '){\n",
        "            palabra++;\n",
        "        }\n",
        "    }\n",
        "    //Aumentamos un valor al imprimir ya que la palabra del ultimo no se cuenta\n",
        "    printf(\"\\r\\nLa cadena de texto tiene %d palabras\\r\\n\",palabra+1);\n",
        "}\n",
        "int aleatorio_en_rango(int minimo, int maximo){\n",
        "    return minimo + rand() / (RAND_MAX / (maximo - minimo + 1) + 1);\n",
        "}\n",
        "\n",
        "void arreglo_aleatorio(char *arreglo,int N){\n",
        "    char muestra[] = \"abcdefghijklmnopqrstuvwxyzABCDEFGHIJKLMNOPQRSTUVWXYZ1234567890/-*/+-*-+\";\n",
        "\n",
        "    //Actualiza la semilla del numero aleatorio\n",
        "    srand(time(NULL));\n",
        "    for (int i = 0; i < N; i++) {\n",
        "        int indiceAleatorio = aleatorio_en_rango(0, (int) strlen(muestra) - 1);\n",
        "        arreglo[i] = muestra[indiceAleatorio];\n",
        "        printf(\"%c \",arreglo[i]);\n",
        "    }\n",
        "\n",
        "}"
      ]
    },
    {
      "cell_type": "code",
      "execution_count": 133,
      "metadata": {
        "colab": {
          "base_uri": "https://localhost:8080/"
        },
        "id": "90H_nDC82E1q",
        "outputId": "b36ea897-6272-440e-a9d1-9168d3596bcf"
      },
      "outputs": [
        {
          "output_type": "stream",
          "name": "stdout",
          "text": [
            "B r i a n   M o r a l e s   L i n a r e s \r\n",
            "Existe vocal dentro de la cadena de texto\r\n",
            "La cadena de texto tiene 3 palabras\r\n",
            "S 5 3 6 n 7 X w + o "
          ]
        }
      ],
      "source": [
        "! gcc pregunta3.c -o pregunta3 && ./pregunta3 \"Brian Morales Linares\" 10"
      ]
    },
    {
      "cell_type": "code",
      "source": [
        "! gcc pregunta3.c -o pregunta3 && ./pregunta3 \"Brian Morales Linares\" 20"
      ],
      "metadata": {
        "colab": {
          "base_uri": "https://localhost:8080/"
        },
        "id": "ytrOnLjEREoM",
        "outputId": "3a835a4a-d5e6-499b-eefa-4b78d6491976"
      },
      "execution_count": 134,
      "outputs": [
        {
          "output_type": "stream",
          "name": "stdout",
          "text": [
            "B r i a n   M o r a l e s   L i n a r e s \r\n",
            "Existe vocal dentro de la cadena de texto\r\n",
            "La cadena de texto tiene 3 palabras\r\n",
            "n L V 4 K * s Y x H h H / 1 W x - / c 3 "
          ]
        }
      ]
    },
    {
      "cell_type": "code",
      "source": [
        "! gcc pregunta3.c -o pregunta3 && ./pregunta3 \"Brian Morales Linares\" 30"
      ],
      "metadata": {
        "colab": {
          "base_uri": "https://localhost:8080/"
        },
        "id": "SEUskWRFRGJj",
        "outputId": "4f26d2a7-4aa3-4e8d-c410-7d971483c95e"
      },
      "execution_count": 135,
      "outputs": [
        {
          "output_type": "stream",
          "name": "stdout",
          "text": [
            "B r i a n   M o r a l e s   L i n a r e s \r\n",
            "Existe vocal dentro de la cadena de texto\r\n",
            "La cadena de texto tiene 3 palabras\r\n",
            "c 5 * e F X i J T c h T r 4 k t N h q C c + / E b - - y W - "
          ]
        }
      ]
    }
  ],
  "metadata": {
    "kernelspec": {
      "display_name": "Python 3",
      "language": "python",
      "name": "python3"
    },
    "language_info": {
      "name": "python",
      "version": "3.12.1"
    },
    "colab": {
      "provenance": []
    }
  },
  "nbformat": 4,
  "nbformat_minor": 0
}