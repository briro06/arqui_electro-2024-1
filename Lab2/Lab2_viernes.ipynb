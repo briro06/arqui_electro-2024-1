{
 "cells": [
  {
   "cell_type": "markdown",
   "metadata": {},
   "source": [
    "## Laboratorio 02 - H0622 ( Horario viernes )"
   ]
  },
  {
   "cell_type": "markdown",
   "metadata": {},
   "source": [
    "# Pregunta 1 (6 puntos)\n",
    "\n",
    "Implementar en C un programa que realice lo siguiente:\n",
    "\n",
    "* Crear un arreglo 'B' haciendo uso de memoria dinámica. Posteriormente, debe completar ese arreglos con números aleatorios de tipo _float_ y esperando recibir $N$ elementos\n",
    "* Recibir 'N' por el terminal.\n",
    "* Desarrollar una función que determine el valor máximo en el arreglo, usando punteros para acceder y comparar los elementos.\n",
    "* Desarrollar otra función que encuentre el valor mínimo en el arreglo, también utilizando punteros.\n",
    "* Imprimir el arreglo y los resultados del valor máximo y mínimo para $N = 5$ y $N = 8$."
   ]
  },
  {
   "cell_type": "code",
   "execution_count": null,
   "metadata": {},
   "outputs": [],
   "source": [
    "%%file pregunta1.c\n",
    "\n",
    "//Escriba su código aquí"
   ]
  },
  {
   "cell_type": "markdown",
   "metadata": {},
   "source": [
    "# Pregunta 2 (4 puntos)\n",
    "Implementar en C un programa que haga lo siguiente:\n",
    "\n",
    "* Reservar memoria para almacenar dos números enteros.\n",
    "* Leer dos números enteros desde el terminal y almacenarlos en la memoria reservada.\n",
    "* Crear una función que calcule e imprima el máximo común divisor (MCD) de los dos números usando punteros.\n"
   ]
  },
  {
   "cell_type": "code",
   "execution_count": null,
   "metadata": {},
   "outputs": [],
   "source": [
    "%%file pregunta2.c\n",
    "\n",
    "//Escriba su código aquí"
   ]
  },
  {
   "cell_type": "markdown",
   "metadata": {},
   "source": [
    "# Pregunta 3 (4 puntos)\n",
    "\n",
    "Implementar un programa en C que haga lo siguiente:\n",
    "\n",
    "* Leer una cadena de texto del terminal y almacenarla usando memoria dinámica.\n",
    "* Crear una función que determine si la cadena contiene alguna vocal.\n",
    "* Crear una función que cuente la cantidad de palabras en la cadena.\n",
    "* Imprimir la cadena original, si contiene o no vocales, y la cantidad de palabras.\n",
    "* Crear una cadena con valores aleatorios de tamaño N\n",
    "* Imprimir los resultados para $N = 10, 20 y 30 $, adjunte los resultados de sus mediciones en una tabla. Así mismo, indicar los punteros de las nuevas cadenas generadas por su algoritmo"
   ]
  },
  {
   "cell_type": "code",
   "execution_count": null,
   "metadata": {},
   "outputs": [],
   "source": [
    "%%file pregunta3.c\n",
    "\n",
    "//Escriba su código aquí"
   ]
  },
  {
   "cell_type": "code",
   "execution_count": null,
   "metadata": {},
   "outputs": [],
   "source": []
  }
 ],
 "metadata": {
  "kernelspec": {
   "display_name": "Python 3",
   "language": "python",
   "name": "python3"
  },
  "language_info": {
   "name": "python",
   "version": "3.12.1"
  }
 },
 "nbformat": 4,
 "nbformat_minor": 2
}
