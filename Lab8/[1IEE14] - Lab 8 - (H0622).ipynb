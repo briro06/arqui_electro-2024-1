{
  "nbformat": 4,
  "nbformat_minor": 0,
  "metadata": {
    "colab": {
      "provenance": []
    },
    "kernelspec": {
      "name": "python3",
      "display_name": "Python 3"
    },
    "language_info": {
      "name": "python"
    }
  },
  "cells": [
    {
      "cell_type": "markdown",
      "source": [
        "## PREGUNTA 1 **(7.5p)**"
      ],
      "metadata": {
        "id": "2QsNDSjHwYOq"
      }
    },
    {
      "cell_type": "markdown",
      "source": [
        "i) **(1.5p)** Cree 10 archivos de texto y 10 archivos binarios de distintos tamaños. Los tamaños para c/archivo (en $MB$) corresponden a potencias de 2 (de $2^4$ a $2^{12}$)\n",
        "\n",
        "\n",
        "\n",
        "---\n",
        "Con respecto al contenido de los archivos:\n",
        "\n",
        "\n",
        "1.   Archivos de texto (extensión: `.txt`):\n",
        "\n",
        "\n",
        "\n",
        "\n",
        "*   Utilize un bucle iterativo de tal manera de que en cada iteración se escriba un nuevo carácter en el archivo. Los caracteres deben ser letras mayúsculas del alfabeto inglés (`A` a `Z`).\n",
        "*   Nombre de archivo: `text_file_{size}KB.txt` (ejm. *text_file_4KB.txt*)\n",
        "\n",
        "2.   Archivos binarios (extensión: `.bin`):\n",
        "\n",
        "\n",
        "\n",
        "*   ` os.urandom(n)` es una función del módulo `os` que retorna una cadena de $N$ caracteres aleatorios ($N\\; bytes$), lo cual es de utilidad para aplicaciones de criptografía.\n",
        "*   Nombre de archivo: `text_file_{size}KB.bin` (ejm. *binary_file_4KB.bin*)"
      ],
      "metadata": {
        "id": "YhCxtEK7xB0u"
      }
    },
    {
      "cell_type": "code",
      "source": [
        "import os\n",
        "import random\n",
        "\n",
        "def generate_text_file(file_path, size_kb):\n",
        "  pass\n",
        "\n",
        "def generate_binary_file(file_path, size_kb):\n",
        "  pass"
      ],
      "metadata": {
        "id": "TuItZ4gtwc9k"
      },
      "execution_count": null,
      "outputs": []
    },
    {
      "cell_type": "markdown",
      "source": [
        "ii) **(1.5p)** Es posible implementar distintos métodos de compresión en Python. Para ello, son de utilidad los módulos `gzip` y `bz2`. Cree 4 funciones, tal que cada una implemente las siguientes rutinas:\n",
        "\n",
        "*   `compress_file_gzip`: Compresión de archivos utilizando `gzip`\n",
        "*   `decompress_file_gzip`: Descompresión de archivos utilizando `gzip`\n",
        "*   `compress_file_bz2`: Compresión de archivos utilizando `bz2`\n",
        "*   `decompress_file_bz2`: Descompresión de archivos utilizando `bz2`\n",
        "\n",
        "Para cada una de las funciones considere:\n",
        "\n",
        "*   **Input:**\n",
        "\n",
        "1.   `input_file` (nombre del archivo de entrada)\n",
        "2.   `output_file` (nombre del archivo de salida)\n",
        "\n",
        "*   **Output:**\n",
        "\n",
        "1.   `exec_time` (tiempo de ejecución de la rutina. Utilice `perf_counter()`)\n",
        "\n"
      ],
      "metadata": {
        "id": "MX2CUMu5z-RK"
      }
    },
    {
      "cell_type": "code",
      "source": [
        "import time\n",
        "import gzip\n",
        "import bz2\n"
      ],
      "metadata": {
        "id": "Gd39w58E20RE"
      },
      "execution_count": null,
      "outputs": []
    },
    {
      "cell_type": "markdown",
      "source": [
        "iii) **(1.5 p)** Realize las mediciones de tiempo para la compresión/descompresión de archivos utilizando ambos métodos y considerando todos los tamaños de archivos propuestos anteriormente."
      ],
      "metadata": {
        "id": "VLuZlHSR3tkV"
      }
    },
    {
      "cell_type": "code",
      "source": [],
      "metadata": {
        "id": "opc8qo4X5lqN"
      },
      "execution_count": null,
      "outputs": []
    },
    {
      "cell_type": "markdown",
      "source": [
        "iv) **(0.75 p)** Genere 4 gráficas correspondientes a los resultados obtenidos anteriormente. Cada una de ellas debe mostrar la siguiente información:\n",
        "\n",
        "*   Eje Y: Tiempo de ejecución\n",
        "*   Eje X: Tamaño de archivo\n",
        "\n",
        "Asimismo, c/u de las gráficas generadas contiene 2 curvas, las cuales corresponden a la comparación de los tiempos obtenidos para los archivos `.txt` y `.bin`:\n",
        "\n",
        "*   Gráfica 1: Compresión de archivos con `gzip`\n",
        "*   Gráfica 2: Desompresión de archivos con `gzip`\n",
        "*   Gráfica 3: Compresión de archivos con `bz2`\n",
        "*   Gráfica 4: Desompresión de archivos con `bz2`\n",
        "\n",
        "\n",
        "\n",
        "\n"
      ],
      "metadata": {
        "id": "kJzl_Vga95Su"
      }
    },
    {
      "cell_type": "code",
      "source": [],
      "metadata": {
        "id": "HEReTf-0-psR"
      },
      "execution_count": null,
      "outputs": []
    },
    {
      "cell_type": "markdown",
      "source": [
        "v) **(0.75 p)** Brinde un análisis de los resultados obtenidos en iv) y plantee las respectivas conclusiones."
      ],
      "metadata": {
        "id": "014TJVNy8c_I"
      }
    },
    {
      "cell_type": "code",
      "source": [],
      "metadata": {
        "id": "hxlK7tPo8eQu"
      },
      "execution_count": null,
      "outputs": []
    },
    {
      "cell_type": "markdown",
      "source": [
        "vi) **(0.75 p)** Genere 4 gráficas correspondientes a los resultados obtenidos anteriormente. Cada una de ellas debe mostrar la siguiente información:\n",
        "\n",
        "*   Eje Y: Tiempo de ejecución\n",
        "*   Eje X: Tamaño de archivo\n",
        "\n",
        "Asimismo, c/u de las gráficas generadas contiene 2 curvas, las cuales corresponden a la comparación de los tiempos obtenidos para los métodos `gzip` y `bz2`:\n",
        "\n",
        "*   Gráfica 1: Compresión de archivos `.txt`\n",
        "*   Gráfica 2: Desompresión de archivos `.bin`\n",
        "*   Gráfica 3: Compresión de archivos `.txt`\n",
        "*   Gráfica 4: Descompresión de archivos `.bin`"
      ],
      "metadata": {
        "id": "FJSaekJV7ryw"
      }
    },
    {
      "cell_type": "code",
      "source": [],
      "metadata": {
        "id": "grTlV7Gx8fKL"
      },
      "execution_count": null,
      "outputs": []
    },
    {
      "cell_type": "markdown",
      "source": [
        "vii) **(0.75 p)** Brinde un análisis de los resultados obtenidos en vi) y plantee las respectivas conclusiones."
      ],
      "metadata": {
        "id": "gmkSyzXJ97ew"
      }
    },
    {
      "cell_type": "code",
      "source": [],
      "metadata": {
        "id": "T2Rn80PS9DU2"
      },
      "execution_count": null,
      "outputs": []
    },
    {
      "cell_type": "markdown",
      "source": [
        "## PREGUNTA 2 **(7.5p)**"
      ],
      "metadata": {
        "id": "3-9AwV6GwPg9"
      }
    },
    {
      "cell_type": "markdown",
      "source": [
        "El archivo *info_pulsos_2019.csv* contiene cuentas de pulsos de varios medidores durante el año 2019. Se sabe que 1000 pulsos equivalen a 1kWh. Se brinda información respecto al encabezado del archivo:\n",
        "\n",
        "\n",
        "*   **ID**: identificador de la medición\n",
        "*   **measuring_point_id**: nombre del medidor\n",
        "*   **pulses_counter**: cuenta de pulsos del medidor\n",
        "*   **timestamp**: fecha y hora de la medición\n"
      ],
      "metadata": {
        "id": "yfpcA7tfyqZF"
      }
    },
    {
      "cell_type": "code",
      "execution_count": null,
      "metadata": {
        "id": "WKmaWxBqrvAs"
      },
      "outputs": [],
      "source": []
    },
    {
      "cell_type": "markdown",
      "source": [
        "i) **(1.5p)** Escriba un script en Python que imprima la cantidad total de  medidores"
      ],
      "metadata": {
        "id": "evsXMOHH08D_"
      }
    },
    {
      "cell_type": "code",
      "source": [],
      "metadata": {
        "id": "L5qHLdvDslzF"
      },
      "execution_count": null,
      "outputs": []
    },
    {
      "cell_type": "markdown",
      "source": [
        "ii) **(1.5p)** Determinar qué medidor es el que registró mayor consumo durante el mes Agosto del 2019."
      ],
      "metadata": {
        "id": "HI2JbYaa4hKT"
      }
    },
    {
      "cell_type": "code",
      "source": [],
      "metadata": {
        "id": "opchzVKU8V2J"
      },
      "execution_count": null,
      "outputs": []
    },
    {
      "cell_type": "markdown",
      "source": [
        "iii) **(1.5p)** Si los medidores miden el consumo de edificios donde hay mayor cantidad de gente de lunes a viernes y hay menor actividad los fines de semana, verifique de que efectivamente el consumo disminuye los sábados y domingos. Para ello, tome cualquier semana de Noviembre del 2019, y calcule el consumo por día de semana de cualquier medidor. Imprima el consumo en kWh por día.\n",
        "\n",
        "\n",
        "\n"
      ],
      "metadata": {
        "id": "ENw9Hji_Bezs"
      }
    },
    {
      "cell_type": "code",
      "source": [],
      "metadata": {
        "id": "lJ_nCHg2BlXc"
      },
      "execution_count": null,
      "outputs": []
    },
    {
      "cell_type": "markdown",
      "source": [
        "vi) **(3p)**  Una companía eléctrica le pide que le envíe a su servidor la facturación de cada medidor por mes. Le dicen que el costo por kWh es 0.245 nuevos soles, y que desea saber cuánto cobrar por cada mes. Para ello, escriba un script que reciba como parámetro de entrada en el terminal:\n",
        "\n",
        "*   El ID del medidor\n",
        "*   El mes a facturar (valor entre 1 y 12)\n",
        "\n",
        "Su script debe calcular el consumo de ese mes y mostrarlo con el siguiente formato: “Propietario del medidor XXX en el mes XXX debe XXX nuevos soles”.\n",
        "\n"
      ],
      "metadata": {
        "id": "0n3MQ3u3XePG"
      }
    },
    {
      "cell_type": "code",
      "source": [],
      "metadata": {
        "id": "FNWQyoCo-n7r"
      },
      "execution_count": null,
      "outputs": []
    }
  ]
}