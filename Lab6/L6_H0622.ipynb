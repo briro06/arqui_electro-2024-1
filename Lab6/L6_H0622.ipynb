{
  "nbformat": 4,
  "nbformat_minor": 0,
  "metadata": {
    "colab": {
      "provenance": []
    },
    "kernelspec": {
      "name": "python3",
      "display_name": "Python 3"
    },
    "language_info": {
      "name": "python"
    }
  },
  "cells": [
    {
      "cell_type": "markdown",
      "source": [
        "#**Laboratorio N° 06 - Parte práctica H-0622**\n",
        "\n",
        "*   La evaluación es estrictamente personal.\n",
        "*   El formato de entrega válido es Lab6_CÓDIGOPUCP.ipynb, donde CÓDIGOPUCP es su código de alumno. De entregar en cualquier otro formato, se penalizará con un descuento de 2 puntos.\n"
      ],
      "metadata": {
        "id": "vsvNcz4SeLUS"
      }
    },
    {
      "cell_type": "markdown",
      "source": [
        "Se le brinda dos códigos en C: Programa1_1.c y Programa1_2.c. Ambos generan el mismo resultado pero se han implementado de diferentes maneras.\n"
      ],
      "metadata": {
        "id": "PRNrgaumcnBY"
      }
    },
    {
      "cell_type": "markdown",
      "source": [
        "**PROGRAMAS**"
      ],
      "metadata": {
        "id": "Dx90AxQTc6N8"
      }
    },
    {
      "cell_type": "code",
      "source": [
        "%%file Programa1_1.c\n",
        "\n",
        "#include <stdio.h>\n",
        "\n",
        "#define N 1000000\n",
        "\n",
        "int main() {\n",
        "  int sum = 0;\n",
        "\n",
        "  // Calculate the sum of the array\n",
        "  for (int i = 0; i < N; i++) {\n",
        "    sum += i;\n",
        "  }\n",
        "\n",
        "  // Print the sum\n",
        "  printf(\"Sum: %d\\n\", sum);\n",
        "\n",
        "  return 0;\n",
        "}\n"
      ],
      "metadata": {
        "id": "ISPoUcJCcmSn"
      },
      "execution_count": null,
      "outputs": []
    },
    {
      "cell_type": "code",
      "source": [
        "%%file Programa1_2.c\n",
        "\n",
        "#include <stdio.h>\n",
        "\n",
        "#define N 1000000\n",
        "\n",
        "int main() {\n",
        "  int sum = 0;\n",
        "  int array[N];\n",
        "\n",
        "  // Initialize the array\n",
        "  for (int i = 0; i < N; i++) {\n",
        "    array[i] = i;\n",
        "  }\n",
        "\n",
        "  // Calculate the sum of the array\n",
        "  for (int i = 0; i < N; i++) {\n",
        "    sum += array[i];\n",
        "  }\n",
        "\n",
        "  // Print the sum\n",
        "  printf(\"Sum: %d\\n\", sum);\n",
        "\n",
        "  return 0;\n",
        "}\n"
      ],
      "metadata": {
        "id": "UrEjbqBPdVdc"
      },
      "execution_count": null,
      "outputs": []
    },
    {
      "cell_type": "markdown",
      "source": [
        "1)\t(0.5 punto) Incluir la medición de tiempo desde C considerando únicamente el cálculo de la operación para ambos programas. Imprimir el tiempo de ejecución al ejecutar los programas. Utilice las unidades que mejor se ajusten al tiempo de ejecución de su PC. No usar más de dos decimales."
      ],
      "metadata": {
        "id": "3s7h_j3idyX3"
      }
    },
    {
      "cell_type": "code",
      "source": [],
      "metadata": {
        "id": "Sa0XRhNnd2IO"
      },
      "execution_count": null,
      "outputs": []
    },
    {
      "cell_type": "markdown",
      "source": [
        "\n",
        "2)\t(0.5 punto) Realizar 15 ejecuciones desde el terminal para ambos archivos ejecutables. Realizar una captura de pantalla de su ejecución. Los tiempos en su imagen deben ser visibles.\n"
      ],
      "metadata": {
        "id": "ppZGnGj3d2Xe"
      }
    },
    {
      "cell_type": "code",
      "source": [],
      "metadata": {
        "id": "hNQTLv5yd6DB"
      },
      "execution_count": null,
      "outputs": []
    },
    {
      "cell_type": "markdown",
      "source": [
        "\n",
        "3)\t(1.0 punto) Adjuntar una tabla con todas las mediciones.\n"
      ],
      "metadata": {
        "id": "ctATFiY0d6Tb"
      }
    },
    {
      "cell_type": "code",
      "source": [],
      "metadata": {
        "id": "TxzHmyTMd8BZ"
      },
      "execution_count": null,
      "outputs": []
    },
    {
      "cell_type": "markdown",
      "source": [
        "\n",
        "4)\t(1.0 punto) Explicar cómo se relaciona el Programa1_1.c con los conceptos de localidad temporal y localidad espacial.\n"
      ],
      "metadata": {
        "id": "cNjEMyfEd8jE"
      }
    },
    {
      "cell_type": "code",
      "source": [],
      "metadata": {
        "id": "WlwqtEl1d_OQ"
      },
      "execution_count": null,
      "outputs": []
    },
    {
      "cell_type": "markdown",
      "source": [
        "\n",
        "5)\t(1.0 punto) Explicar cómo se relaciona el Programa1_2.c con los conceptos de localidad temporal y localidad espacial.\n"
      ],
      "metadata": {
        "id": "5ho8We9Sd_iL"
      }
    },
    {
      "cell_type": "code",
      "source": [],
      "metadata": {
        "id": "vgKKwqbIeBk_"
      },
      "execution_count": null,
      "outputs": []
    },
    {
      "cell_type": "markdown",
      "source": [
        "\n",
        "6)\t(1.0 punto) Utilizar el comando getconf -a | grep CACHE en el terminal y verificar el tamaño de bloque de su computador. Recordar que el tamaño de bloque en el nivel 1 se ve en la línea LEVEL1_DCACHE_LINESIZE (en bytes). Adjuntar captura de pantalla.\n"
      ],
      "metadata": {
        "id": "BU3OxEMmeB1u"
      }
    },
    {
      "cell_type": "code",
      "source": [],
      "metadata": {
        "id": "7ikiGQKweDQn"
      },
      "execution_count": null,
      "outputs": []
    },
    {
      "cell_type": "markdown",
      "source": [
        "\n",
        "7)\t(1.5 punto) Conociendo los datos previos, ¿es posible saber en qué momento se produce hit o miss? De ser posible, comentar el ejemplo, de no serlo, explicar porqué.\n"
      ],
      "metadata": {
        "id": "0Xh5LmcpeDkI"
      }
    },
    {
      "cell_type": "code",
      "source": [],
      "metadata": {
        "id": "5ZTsgCpWeE-Q"
      },
      "execution_count": null,
      "outputs": []
    },
    {
      "cell_type": "markdown",
      "source": [
        "\n",
        "8)\t(1.5 puntos) Basándose en todas las respuestas de los incisos anteriores, ¿qué implementación genera mejores tiempos de ejecución? Justificar su respuesta."
      ],
      "metadata": {
        "id": "75rOZhzweFRJ"
      }
    },
    {
      "cell_type": "code",
      "source": [],
      "metadata": {
        "id": "GFboIi88eGbT"
      },
      "execution_count": null,
      "outputs": []
    },
    {
      "cell_type": "markdown",
      "source": [
        "\n",
        "\n",
        "9)\t(2.0 puntos) ¿Cómo influye el tipo de datos del arreglo en este ejercicio? Esperaría resultados similares para un tipo char, short, long? Comentar acerca de su respuesta.\n"
      ],
      "metadata": {
        "id": "uHX3p8zueGtV"
      }
    },
    {
      "cell_type": "code",
      "source": [],
      "metadata": {
        "id": "bml__6C9eHb7"
      },
      "execution_count": null,
      "outputs": []
    }
  ]
}