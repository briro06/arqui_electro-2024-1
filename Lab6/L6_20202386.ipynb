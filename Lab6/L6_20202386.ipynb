{
  "cells": [
    {
      "cell_type": "markdown",
      "metadata": {
        "id": "vsvNcz4SeLUS"
      },
      "source": [
        "#**Laboratorio N° 06 - Parte práctica H-0622**\n",
        "\n",
        "*   La evaluación es estrictamente personal.\n",
        "*   El formato de entrega válido es Lab6_CÓDIGOPUCP.ipynb, donde CÓDIGOPUCP es su código de alumno. De entregar en cualquier otro formato, se penalizará con un descuento de 2 puntos.\n"
      ]
    },
    {
      "cell_type": "markdown",
      "metadata": {
        "id": "PRNrgaumcnBY"
      },
      "source": [
        "Se le brinda dos códigos en C: Programa1_1.c y Programa1_2.c. Ambos generan el mismo resultado pero se han implementado de diferentes maneras.\n"
      ]
    },
    {
      "cell_type": "markdown",
      "metadata": {
        "id": "Dx90AxQTc6N8"
      },
      "source": [
        "**PROGRAMAS**"
      ]
    },
    {
      "cell_type": "code",
      "execution_count": null,
      "metadata": {
        "id": "ISPoUcJCcmSn"
      },
      "outputs": [],
      "source": [
        "%%file Programa1_1.c\n",
        "\n",
        "#include <stdio.h>\n",
        "\n",
        "#define N 1000000\n",
        "\n",
        "int main() {\n",
        "  int sum = 0;\n",
        "\n",
        "  // Calculate the sum of the array\n",
        "  for (int i = 0; i < N; i++) {\n",
        "    sum += i;\n",
        "  }\n",
        "\n",
        "  // Print the sum\n",
        "  printf(\"Sum: %d\\n\", sum);\n",
        "\n",
        "  return 0;\n",
        "}\n"
      ]
    },
    {
      "cell_type": "code",
      "execution_count": null,
      "metadata": {
        "id": "UrEjbqBPdVdc"
      },
      "outputs": [],
      "source": [
        "%%file Programa1_2.c\n",
        "\n",
        "#include <stdio.h>\n",
        "\n",
        "#define N 1000000\n",
        "\n",
        "int main() {\n",
        "  int sum = 0;\n",
        "  int array[N];\n",
        "\n",
        "  // Initialize the array\n",
        "  for (int i = 0; i < N; i++) {\n",
        "    array[i] = i;\n",
        "  }\n",
        "\n",
        "  // Calculate the sum of the array\n",
        "  for (int i = 0; i < N; i++) {\n",
        "    sum += array[i];\n",
        "  }\n",
        "\n",
        "  // Print the sum\n",
        "  printf(\"Sum: %d\\n\", sum);\n",
        "\n",
        "  return 0;\n",
        "}\n"
      ]
    },
    {
      "cell_type": "markdown",
      "metadata": {
        "id": "3s7h_j3idyX3"
      },
      "source": [
        "1)\t(0.5 punto) Incluir la medición de tiempo desde C considerando únicamente el cálculo de la operación para ambos programas. Imprimir el tiempo de ejecución al ejecutar los programas. Utilice las unidades que mejor se ajusten al tiempo de ejecución de su PC. No usar más de dos decimales."
      ]
    },
    {
      "cell_type": "code",
      "execution_count": 14,
      "metadata": {
        "id": "Sa0XRhNnd2IO"
      },
      "outputs": [
        {
          "name": "stdout",
          "output_type": "stream",
          "text": [
            "Overwriting Programa1_1.c\n"
          ]
        }
      ],
      "source": [
        "%%file Programa1_1.c\n",
        "\n",
        "#include <stdio.h>\n",
        "#include<time.h>\n",
        "\n",
        "#define N 1000000\n",
        "\n",
        "int main() {\n",
        "  int sum = 0;\n",
        "\n",
        "  //Calculamos lo que tarda en realizar la operación \n",
        "  struct timespec ti, tf;\n",
        "  double elapsed;\n",
        "  clock_gettime(CLOCK_REALTIME, &ti);\n",
        "  // Calculate the sum of the array\n",
        "  for (int i = 0; i < N; i++) {\n",
        "    sum += i;\n",
        "  }\n",
        "  clock_gettime(CLOCK_REALTIME, &tf);\n",
        "  elapsed=(tf.tv_sec-ti.tv_sec)*1e9 + (tf.tv_nsec -ti.tv_nsec);\n",
        "\n",
        "  printf(\"El tiempo de ejecuación del Programa1_1 es: %.2f \\r\\n\",elapsed);\n",
        "\n",
        "  // Print the sum\n",
        "  printf(\"Sum: %d\\n\", sum);\n",
        "\n",
        "  return 0;\n",
        "}\n"
      ]
    },
    {
      "cell_type": "code",
      "execution_count": 15,
      "metadata": {},
      "outputs": [
        {
          "name": "stdout",
          "output_type": "stream",
          "text": [
            "El tiempo de ejecuación del Programa1_1 es: 1864602.00 \n",
            "Sum: 1783293664\n"
          ]
        }
      ],
      "source": [
        "! gcc Programa1_1.c -o Programa1_1 && ./Programa1_1"
      ]
    },
    {
      "cell_type": "code",
      "execution_count": 21,
      "metadata": {},
      "outputs": [
        {
          "name": "stdout",
          "output_type": "stream",
          "text": [
            "Overwriting Programa1_2.c\n"
          ]
        }
      ],
      "source": [
        "%%file Programa1_2.c\n",
        "\n",
        "#include <stdio.h>\n",
        "#include<time.h>\n",
        "#define N 1000000\n",
        "\n",
        "int main() {\n",
        "  int sum = 0;\n",
        "  int array[N];\n",
        "\n",
        "  // Initialize the array\n",
        "  for (int i = 0; i < N; i++) {\n",
        "    array[i] = i;\n",
        "  }\n",
        "  \n",
        "  //Calculamos lo que tarda en realizar la operación \n",
        "  struct timespec ti, tf;\n",
        "  double elapsed;\n",
        "  clock_gettime(CLOCK_REALTIME, &ti);\n",
        "\n",
        "  // Calculate the sum of the array\n",
        "  for (int i = 0; i < N; i++) {\n",
        "    sum += array[i];\n",
        "  }\n",
        "  \n",
        "  clock_gettime(CLOCK_REALTIME, &tf);\n",
        "  elapsed=(tf.tv_sec-ti.tv_sec)*1e9 + (tf.tv_nsec -ti.tv_nsec);\n",
        "\n",
        "  printf(\"El tiempo de ejecuación del Programa1_2 es: %.2f \\r\\n\",elapsed);\n",
        "\n",
        "\n",
        "  // Print the sum\n",
        "  printf(\"Sum: %d\\n\", sum);\n",
        "\n",
        "  return 0;\n",
        "}"
      ]
    },
    {
      "cell_type": "code",
      "execution_count": 22,
      "metadata": {},
      "outputs": [
        {
          "name": "stdout",
          "output_type": "stream",
          "text": [
            "El tiempo de ejecuación del Programa1_2 es: 1450502.00 \n",
            "Sum: 1783293664\n"
          ]
        }
      ],
      "source": [
        "! gcc Programa1_2.c -o Programa1_2 && ./Programa1_2"
      ]
    },
    {
      "cell_type": "markdown",
      "metadata": {
        "id": "ppZGnGj3d2Xe"
      },
      "source": [
        "\n",
        "2)\t(0.5 punto) Realizar 15 ejecuciones desde el terminal para ambos archivos ejecutables. Realizar una captura de pantalla de su ejecución. Los tiempos en su imagen deben ser visibles.\n"
      ]
    },
    {
      "cell_type": "markdown",
      "metadata": {},
      "source": [
        "Como podemos notar todas nuestras mediciones de tiempo se realizarán en nanosegundos para una mejor visualización."
      ]
    },
    {
      "cell_type": "code",
      "execution_count": 23,
      "metadata": {
        "id": "hNQTLv5yd6DB"
      },
      "outputs": [
        {
          "name": "stdout",
          "output_type": "stream",
          "text": [
            "El tiempo de ejecuación del Programa1_1 es: 1840602.00 \n",
            "Sum: 1783293664\n",
            "El tiempo de ejecuación del Programa1_2 es: 1516902.00 \n",
            "Sum: 1783293664\n",
            "El tiempo de ejecuación del Programa1_1 es: 1864002.00 \n",
            "Sum: 1783293664\n",
            "El tiempo de ejecuación del Programa1_2 es: 1546402.00 \n",
            "Sum: 1783293664\n",
            "El tiempo de ejecuación del Programa1_1 es: 2089202.00 \n",
            "Sum: 1783293664\n",
            "El tiempo de ejecuación del Programa1_2 es: 1492601.00 \n",
            "Sum: 1783293664\n",
            "El tiempo de ejecuación del Programa1_1 es: 1920501.00 \n",
            "Sum: 1783293664\n",
            "El tiempo de ejecuación del Programa1_2 es: 1571802.00 \n",
            "Sum: 1783293664\n",
            "El tiempo de ejecuación del Programa1_1 es: 1718702.00 \n",
            "Sum: 1783293664\n",
            "El tiempo de ejecuación del Programa1_2 es: 1533202.00 \n",
            "Sum: 1783293664\n"
          ]
        },
        {
          "name": "stdout",
          "output_type": "stream",
          "text": [
            "El tiempo de ejecuación del Programa1_1 es: 1980002.00 \n",
            "Sum: 1783293664\n",
            "El tiempo de ejecuación del Programa1_2 es: 1488601.00 \n",
            "Sum: 1783293664\n",
            "El tiempo de ejecuación del Programa1_1 es: 1979102.00 \n",
            "Sum: 1783293664\n",
            "El tiempo de ejecuación del Programa1_2 es: 1520901.00 \n",
            "Sum: 1783293664\n",
            "El tiempo de ejecuación del Programa1_1 es: 2091301.00 \n",
            "Sum: 1783293664\n",
            "El tiempo de ejecuación del Programa1_2 es: 1487701.00 \n",
            "Sum: 1783293664\n",
            "El tiempo de ejecuación del Programa1_1 es: 1986801.00 \n",
            "Sum: 1783293664\n",
            "El tiempo de ejecuación del Programa1_2 es: 1502101.00 \n",
            "Sum: 1783293664\n",
            "El tiempo de ejecuación del Programa1_1 es: 1824402.00 \n",
            "Sum: 1783293664\n",
            "El tiempo de ejecuación del Programa1_2 es: 1566301.00 \n",
            "Sum: 1783293664\n",
            "El tiempo de ejecuación del Programa1_1 es: 1767202.00 \n",
            "Sum: 1783293664\n",
            "El tiempo de ejecuación del Programa1_2 es: 1618701.00 \n",
            "Sum: 1783293664\n",
            "El tiempo de ejecuación del Programa1_1 es: 1961501.00 \n",
            "Sum: 1783293664\n",
            "El tiempo de ejecuación del Programa1_2 es: 1526001.00 \n",
            "Sum: 1783293664\n",
            "El tiempo de ejecuación del Programa1_1 es: 1573701.00 \n",
            "Sum: 1783293664\n",
            "El tiempo de ejecuación del Programa1_2 es: 1461601.00 \n",
            "Sum: 1783293664\n",
            "El tiempo de ejecuación del Programa1_1 es: 1502701.00 \n",
            "Sum: 1783293664\n",
            "El tiempo de ejecuación del Programa1_2 es: 1421201.00 \n",
            "Sum: 1783293664\n",
            "El tiempo de ejecuación del Programa1_1 es: 1867902.00 \n",
            "Sum: 1783293664\n",
            "El tiempo de ejecuación del Programa1_2 es: 1433101.00 \n",
            "Sum: 1783293664\n"
          ]
        }
      ],
      "source": [
        "! ./Programa1_1 && ./Programa1_2 && ./Programa1_1 && ./Programa1_2 && ./Programa1_1 && ./Programa1_2 && ./Programa1_1 && ./Programa1_2 && ./Programa1_1 && ./Programa1_2 \n",
        "! ./Programa1_1 && ./Programa1_2 && ./Programa1_1 && ./Programa1_2 && ./Programa1_1 && ./Programa1_2 && ./Programa1_1 && ./Programa1_2 && ./Programa1_1 && ./Programa1_2 \n",
        "! ./Programa1_1 && ./Programa1_2 && ./Programa1_1 && ./Programa1_2 && ./Programa1_1 && ./Programa1_2 && ./Programa1_1 && ./Programa1_2 && ./Programa1_1 && ./Programa1_2 "
      ]
    },
    {
      "cell_type": "markdown",
      "metadata": {
        "id": "ctATFiY0d6Tb"
      },
      "source": [
        "\n",
        "3)\t(1.0 punto) Adjuntar una tabla con todas las mediciones.\n"
      ]
    },
    {
      "cell_type": "markdown",
      "metadata": {},
      "source": [
        "Enlace a la tabla con las mediciones para las 15 ejecuciones https://docs.google.com/spreadsheets/d/1zAfvAqZ8hrDRHj1WXa45YIZzo3IHsAPHvpWJ30oreA4/edit?usp=sharing "
      ]
    },
    {
      "cell_type": "code",
      "execution_count": 40,
      "metadata": {},
      "outputs": [
        {
          "data": {
            "text/html": [
              "<div>\n",
              "<style scoped>\n",
              "    .dataframe tbody tr th:only-of-type {\n",
              "        vertical-align: middle;\n",
              "    }\n",
              "\n",
              "    .dataframe tbody tr th {\n",
              "        vertical-align: top;\n",
              "    }\n",
              "\n",
              "    .dataframe thead th {\n",
              "        text-align: right;\n",
              "    }\n",
              "</style>\n",
              "<table border=\"1\" class=\"dataframe\">\n",
              "  <thead>\n",
              "    <tr style=\"text-align: right;\">\n",
              "      <th></th>\n",
              "      <th>#de ejecución</th>\n",
              "      <th>Tiempo de ejecución Programa1_1(ns)</th>\n",
              "      <th>Tiempo de ejecución Programa1_2(ns)</th>\n",
              "    </tr>\n",
              "  </thead>\n",
              "  <tbody>\n",
              "    <tr>\n",
              "      <th>0</th>\n",
              "      <td>1</td>\n",
              "      <td>1840602</td>\n",
              "      <td>1516902</td>\n",
              "    </tr>\n",
              "    <tr>\n",
              "      <th>1</th>\n",
              "      <td>2</td>\n",
              "      <td>1864002</td>\n",
              "      <td>1546402</td>\n",
              "    </tr>\n",
              "    <tr>\n",
              "      <th>2</th>\n",
              "      <td>3</td>\n",
              "      <td>2089202</td>\n",
              "      <td>1492601</td>\n",
              "    </tr>\n",
              "    <tr>\n",
              "      <th>3</th>\n",
              "      <td>4</td>\n",
              "      <td>1920501</td>\n",
              "      <td>1571802</td>\n",
              "    </tr>\n",
              "    <tr>\n",
              "      <th>4</th>\n",
              "      <td>5</td>\n",
              "      <td>1718702</td>\n",
              "      <td>1533202</td>\n",
              "    </tr>\n",
              "    <tr>\n",
              "      <th>5</th>\n",
              "      <td>6</td>\n",
              "      <td>1980002</td>\n",
              "      <td>1488601</td>\n",
              "    </tr>\n",
              "    <tr>\n",
              "      <th>6</th>\n",
              "      <td>7</td>\n",
              "      <td>1979102</td>\n",
              "      <td>1520901</td>\n",
              "    </tr>\n",
              "    <tr>\n",
              "      <th>7</th>\n",
              "      <td>8</td>\n",
              "      <td>2091301</td>\n",
              "      <td>1487701</td>\n",
              "    </tr>\n",
              "    <tr>\n",
              "      <th>8</th>\n",
              "      <td>9</td>\n",
              "      <td>1986801</td>\n",
              "      <td>1502101</td>\n",
              "    </tr>\n",
              "    <tr>\n",
              "      <th>9</th>\n",
              "      <td>10</td>\n",
              "      <td>1824402</td>\n",
              "      <td>1566301</td>\n",
              "    </tr>\n",
              "    <tr>\n",
              "      <th>10</th>\n",
              "      <td>11</td>\n",
              "      <td>1767202</td>\n",
              "      <td>1618701</td>\n",
              "    </tr>\n",
              "    <tr>\n",
              "      <th>11</th>\n",
              "      <td>12</td>\n",
              "      <td>1961501</td>\n",
              "      <td>1526001</td>\n",
              "    </tr>\n",
              "    <tr>\n",
              "      <th>12</th>\n",
              "      <td>13</td>\n",
              "      <td>1573701</td>\n",
              "      <td>1461601</td>\n",
              "    </tr>\n",
              "    <tr>\n",
              "      <th>13</th>\n",
              "      <td>14</td>\n",
              "      <td>1502701</td>\n",
              "      <td>1421201</td>\n",
              "    </tr>\n",
              "    <tr>\n",
              "      <th>14</th>\n",
              "      <td>15</td>\n",
              "      <td>1867902</td>\n",
              "      <td>1433101</td>\n",
              "    </tr>\n",
              "  </tbody>\n",
              "</table>\n",
              "</div>"
            ],
            "text/plain": [
              "    #de ejecución  Tiempo de ejecución Programa1_1(ns)  \\\n",
              "0               1                              1840602   \n",
              "1               2                              1864002   \n",
              "2               3                              2089202   \n",
              "3               4                              1920501   \n",
              "4               5                              1718702   \n",
              "5               6                              1980002   \n",
              "6               7                              1979102   \n",
              "7               8                              2091301   \n",
              "8               9                              1986801   \n",
              "9              10                              1824402   \n",
              "10             11                              1767202   \n",
              "11             12                              1961501   \n",
              "12             13                              1573701   \n",
              "13             14                              1502701   \n",
              "14             15                              1867902   \n",
              "\n",
              "    Tiempo de ejecución Programa1_2(ns)  \n",
              "0                               1516902  \n",
              "1                               1546402  \n",
              "2                               1492601  \n",
              "3                               1571802  \n",
              "4                               1533202  \n",
              "5                               1488601  \n",
              "6                               1520901  \n",
              "7                               1487701  \n",
              "8                               1502101  \n",
              "9                               1566301  \n",
              "10                              1618701  \n",
              "11                              1526001  \n",
              "12                              1461601  \n",
              "13                              1421201  \n",
              "14                              1433101  "
            ]
          },
          "execution_count": 40,
          "metadata": {},
          "output_type": "execute_result"
        }
      ],
      "source": [
        "import pandas as pd\n",
        "df = pd.read_csv('tabla.csv',skiprows = 2,usecols=(\"#de ejecución\",\"Tiempo de ejecución Programa1_1(ns)\",\"Tiempo de ejecución Programa1_2(ns)\"))\n",
        "df"
      ]
    },
    {
      "cell_type": "markdown",
      "metadata": {
        "id": "cNjEMyfEd8jE"
      },
      "source": [
        "\n",
        "4)\t(1.0 punto) Explicar cómo se relaciona el Programa1_1.c con los conceptos de localidad temporal y localidad espacial.\n"
      ]
    },
    {
      "cell_type": "markdown",
      "metadata": {},
      "source": [
        "En el Programa1_1 podemos notar que hacemos uso de localidad temporal ya que al utilizar la variable sum en cada iteración cada cierto tiempo (futuro cercano) para almacenar el valor y lograr disminuir el tiempo de ejecución del programa. "
      ]
    },
    {
      "cell_type": "markdown",
      "metadata": {
        "id": "5ho8We9Sd_iL"
      },
      "source": [
        "\n",
        "5)\t(1.0 punto) Explicar cómo se relaciona el Programa1_2.c con los conceptos de localidad temporal y localidad espacial.\n"
      ]
    },
    {
      "cell_type": "markdown",
      "metadata": {},
      "source": [
        "En el Programa1_2 a diferencia del 1 , hacemos usos de localidad espacial ya que como podemos observar en el código del programa lo primero que realziamos es almacenar los numeros dentro de un arreglo aprovechando la localidad temporal debido a que los valores de los arreglos se encuentran en posiciones de memoria continuas (posiciones de memoria cercanas), es asi que en este programa tambien se aprovecho de la localidad espacial haciendo uso nuevamente de la variable sum en cada iteración."
      ]
    },
    {
      "cell_type": "markdown",
      "metadata": {
        "id": "BU3OxEMmeB1u"
      },
      "source": [
        "\n",
        "6)\t(1.0 punto) Utilizar el comando getconf -a | grep CACHE en el terminal y verificar el tamaño de bloque de su computador. Recordar que el tamaño de bloque en el nivel 1 se ve en la línea LEVEL1_DCACHE_LINESIZE (en bytes). Adjuntar captura de pantalla.\n"
      ]
    },
    {
      "cell_type": "code",
      "execution_count": 24,
      "metadata": {},
      "outputs": [
        {
          "name": "stdout",
          "output_type": "stream",
          "text": [
            "LEVEL1_ICACHE_SIZE                 32768\n",
            "LEVEL1_ICACHE_ASSOC                \n",
            "LEVEL1_ICACHE_LINESIZE             64\n",
            "LEVEL1_DCACHE_SIZE                 32768\n",
            "LEVEL1_DCACHE_ASSOC                8\n",
            "LEVEL1_DCACHE_LINESIZE             64\n",
            "LEVEL2_CACHE_SIZE                  262144\n",
            "LEVEL2_CACHE_ASSOC                 4\n",
            "LEVEL2_CACHE_LINESIZE              64\n",
            "LEVEL3_CACHE_SIZE                  20971520\n",
            "LEVEL3_CACHE_ASSOC                 16\n",
            "LEVEL3_CACHE_LINESIZE              64\n",
            "LEVEL4_CACHE_SIZE                  0\n",
            "LEVEL4_CACHE_ASSOC                 \n",
            "LEVEL4_CACHE_LINESIZE              \n"
          ]
        }
      ],
      "source": [
        "! getconf -a | grep CACHE"
      ]
    },
    {
      "cell_type": "markdown",
      "metadata": {},
      "source": [
        "El tamaño de nuestro bloque en el nivel 1 es de 64 bytes"
      ]
    },
    {
      "cell_type": "markdown",
      "metadata": {
        "id": "0Xh5LmcpeDkI"
      },
      "source": [
        "\n",
        "7)\t(1.5 punto) Conociendo los datos previos, ¿es posible saber en qué momento se produce hit o miss? De ser posible, comentar el ejemplo, de no serlo, explicar porqué.\n"
      ]
    },
    {
      "cell_type": "markdown",
      "metadata": {
        "id": "5ZTsgCpWeE-Q"
      },
      "source": [
        "Para saber en que momento se produce un hit o miss es necesario conocer que tipo de mapeo se esta realizando ya que puede ser mapeo directo, asocitivo o asociativo de N vías.Pues de ellos dependerá nuestro respuesta."
      ]
    },
    {
      "cell_type": "markdown",
      "metadata": {
        "id": "75rOZhzweFRJ"
      },
      "source": [
        "\n",
        "8)\t(1.5 puntos) Basándose en todas las respuestas de los incisos anteriores, ¿qué implementación genera mejores tiempos de ejecución? Justificar su respuesta."
      ]
    },
    {
      "cell_type": "markdown",
      "metadata": {},
      "source": [
        "Como podemos notar en la tabla de mediciones del tiempo el Programa1_2 presenta un menor tiempo de ejecución esto se debe a que aprovecha tanto la localidad espacial como la temporal dentro del programa, mientras que el Programa1_1 solo aprovecha lo que es la localidad espacil. Sin embargo podemos notar que para algunas ejecuciones el tiempo que se demora ambos programa resulta ser muy cercano esto se puede deber a la simplicidad de la operación que realizamos."
      ]
    },
    {
      "cell_type": "markdown",
      "metadata": {
        "id": "uHX3p8zueGtV"
      },
      "source": [
        "\n",
        "\n",
        "9)\t(2.0 puntos) ¿Cómo influye el tipo de datos del arreglo en este ejercicio? Esperaría resultados similares para un tipo char, short, long? Comentar acerca de su respuesta.\n"
      ]
    },
    {
      "cell_type": "markdown",
      "metadata": {},
      "source": [
        "El tipo de dato del arreglo influye bastante ya que para un arreglo o variables seguidas se tiene una posicion de memoria alejada segun el tamaño de su variable. Es decir que en la memoria cache alcanzarian mas bloques de variables si es que estas tuvieran un tipo de dato más pequeño, por ejemplo int (4 bytes) ,o menos bloques de memoria para un tipo de dato más gr un ande double(8 bytes).Esto provocaria aumentar los tiempos de lectura y escritura, mientras por otra parte al ser mas pequeños deberia ayudar a reducir estos tiempos ya que pueden entrar mas valores."
      ]
    }
  ],
  "metadata": {
    "colab": {
      "provenance": []
    },
    "kernelspec": {
      "display_name": "Python 3",
      "name": "python3"
    },
    "language_info": {
      "codemirror_mode": {
        "name": "ipython",
        "version": 3
      },
      "file_extension": ".py",
      "mimetype": "text/x-python",
      "name": "python",
      "nbconvert_exporter": "python",
      "pygments_lexer": "ipython3",
      "version": "3.10.12"
    }
  },
  "nbformat": 4,
  "nbformat_minor": 0
}
