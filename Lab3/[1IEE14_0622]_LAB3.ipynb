{
  "nbformat": 4,
  "nbformat_minor": 0,
  "metadata": {
    "colab": {
      "provenance": []
    },
    "kernelspec": {
      "name": "python3",
      "display_name": "Python 3"
    },
    "language_info": {
      "name": "python"
    }
  },
  "cells": [
    {
      "cell_type": "markdown",
      "source": [
        "# **Laboratorio 3 - 1IEE14 (Lenguaje ensamblador)**\n",
        "\n",
        "**INDICACIONES GENERALES**\n",
        "\n",
        "Subir a la plataforma PAIDEIA un único archivo comprimido con el nombre `L3_codPUCP.zip`, el cual debe contener únicamente los siguientes 4 archivos:\n",
        "\n",
        "*   `P1.asm`\n",
        "*   `P1.sh`\n",
        "*   `P2.asm`\n",
        "*   `P2.sh`\n",
        "\n",
        "En caso los archivos o el archivo comprimido tengan un nombre distinto o se compriman archivos diferentes a los indicados, se penalizará con **(-0.5p)** por cada error cometido.\n",
        "\n",
        "\n"
      ],
      "metadata": {
        "id": "QmhGGMkQ0x1C"
      }
    },
    {
      "cell_type": "markdown",
      "source": [
        "# (7.5 p) Pregunta 1 - Cambio de base 10 a base B"
      ],
      "metadata": {
        "id": "jug3lNEGkuhs"
      }
    },
    {
      "cell_type": "markdown",
      "source": [
        "Implementar en lenguaje ensamblador un programa que convierte **un número M en base 10** a su equivalente **en base B**. Tenga en cuentas las siguientes instrucciones:\n",
        "\n",
        "* $M = \\left[ 2, 65536\\right[,\\; M \\inℕ$\n",
        "* $M$ debe ser definido como un número entero en la sección `.data`\n",
        "* $B = \\left[ 2, 10\\right[,\\; B \\inℕ$\n",
        "* $B$ debe ser definido como un número entero en la sección `.data`\n",
        "* Declarar **2 punteros** con nombres `ptr_Q` y `ptr_R`, los cuales deben de ser del mismo tipo de dato que $M$.\n",
        "  * `ptr_Q` debe almacenar los **cocientes** obtenidos en cada división sucesiva.\n",
        "  * `ptr_R` debe almacenar los **residuos** obtenidos en cada división sucesiva.\n",
        "* Reservar **espacio de memoria de tamaño 20** para cada uno.\n",
        "* El **resultado numérico (en base B)** debe ser almacenado en el registro `R10`\n",
        "* Se le solicita utilizar los recursos de memoria de manera óptima. Para ello, considere el tipo de dato adecuado para cada una de las variables y los punteros especificados.\n",
        "\n",
        "**EJEMPLOS**\n",
        "\n",
        "  * $M = 73 - B = 3$\n",
        "    * Resultado esperado: `R10 = 2201`\n",
        "    * Resultado esperado: `ptr_Q = {24, 8, 2}`\n",
        "    * Resultado esperado: `ptr_R = {1, 0, 2}`   \n",
        "  * $M = 6105 - B = 5$\n",
        "    * Resultado esperado: `R10 = 143410`\n",
        "    * Resultado esperado: `ptr_Q = {1121, 244, 48, 9, 1}`\n",
        "    * Resultado esperado: `ptr_R = {0, 1, 4, 3, 4}`    \n",
        "  * $M = 39321 - B = 9$\n",
        "    * Resultado esperado: `R10 = 58840`  \n",
        "    * Resultado esperado: `ptr_Q = {4369, 485, 53, 5}`\n",
        "    * Resultado esperado: `ptr_R = {0, 4, 8, 8}`    \n",
        "\n",
        "Tenga en cuenta el prototipo brindado a continuación:\n",
        "\n",
        "```\n",
        "section .data\n",
        "    ; declarar la variable M\n",
        "    ; declarar la variable B\n",
        "\n",
        "section .bss\n",
        "    ; reservar espacio de memoria para ptr_Q\n",
        "    ; reservar espacio de memoria para ptr_R    \n",
        "\n",
        "section .text\n",
        "    global _start\n",
        "\n",
        "_start:\n",
        "    ; ---------------------------------------------------------------------------------------\n",
        "    ; COMPLETAR CÓDIGO (puede crear las etiquetas adicionales que crea convenientes)\n",
        "    ; ---------------------------------------------------------------------------------------\n",
        "\n",
        "_end:\n",
        "    mov rax, 0x3C\n",
        "    mov rdi, 0\n",
        "    syscall\n",
        "```"
      ],
      "metadata": {
        "id": "X14ncGNIkskc"
      }
    },
    {
      "cell_type": "markdown",
      "source": [
        "a) **(6.5 p)** Implemente el código requerido. El programa creado debe tener el nombre  `P1.asm`"
      ],
      "metadata": {
        "id": "v2frzU8ZLXqM"
      }
    },
    {
      "cell_type": "code",
      "source": [
        "%%file P1.asm"
      ],
      "metadata": {
        "id": "uFq9bo9FLVP8"
      },
      "execution_count": null,
      "outputs": []
    },
    {
      "cell_type": "markdown",
      "source": [
        "b) **(1p)** Implemente un script en Bash con el nombre `P1.sh`, el cual debe contener el código necesario para desensamblar y enlazar su código, de tal manera de que el ejecutable con el nombre `P1` sea generado al ejecutar el script. Debe incluir la bandera que permite el uso del depurador GDB.\n"
      ],
      "metadata": {
        "id": "U-3W2vY9IDA-"
      }
    },
    {
      "cell_type": "code",
      "source": [
        "%%file P1.sh"
      ],
      "metadata": {
        "id": "ybIrXZZyLSCU"
      },
      "execution_count": null,
      "outputs": []
    },
    {
      "cell_type": "markdown",
      "source": [
        "# (7.5 p) Pregunta 2 - Serie de Fibonacci"
      ],
      "metadata": {
        "id": "201NfXLJGfp4"
      }
    },
    {
      "cell_type": "markdown",
      "source": [
        "Implementar en lenguaje ensamblador un programa que calcule los $M+1$ primeros números de la Serie de Fibonacci, la cual está dada por:\n",
        "\n",
        "$$\n",
        "\\begin{equation*}\n",
        "f(m) = \\begin{cases}\n",
        "0 & m=0 \\\\\n",
        "1 & m=1 \\\\\n",
        "f(m-1) + f(m-2) & m\\geq2\n",
        "\\end{cases}\n",
        "\\end{equation*}\n",
        "$$\n",
        "\n",
        "* $M = \\left[ 0, 45\\right],\\; M \\inℕ$\n",
        "* `M` debe ser definido como un número entero en la sección `.data`\n",
        "\n",
        "* Debe declarar **1 puntero** con nombres `ptr_fibo` y reservar espacio de **memoria de tamaño $M+1$** para el mismo.\n",
        "  * `ptr_fibo` debe ser usado para almacenar los $M+1$ primeros números de la Serie de Fibonacci.\n",
        "* Debe utilizar los recursos de memoria de manera óptima. Para ello, al momento de definir el tipo de dato asignado a `ptr_fibo`, considere el valor máximo obtenido para la serie de Fibonacci, es decir, $F(45)$  \n",
        "* El **resultado** debe ser reportado de la siguiente manera:\n",
        "  * `ptr_fibo` contiene la Serie de Fibonacci\n",
        "  * `R8` contiene el término $F_{n-2}$\n",
        "  * `R9` contiene el término $F_{n-1}$\n",
        "  * `R10` contiene el término $F_n$\n",
        "  * Los registros especificados `(R8, R9 R10)` deben de tener los valores mencionados un instante antes de que el programa ingrese a la etiqueta `_end`\n",
        "\n",
        "\n",
        "Tenga en cuenta el prototipo brindado a continuación:\n",
        "\n",
        "```\n",
        "section .data\n",
        "    ; declarar la variable M\n",
        "\n",
        "section .bss\n",
        "    ; reservar espacio de memoria para ptr_fibo\n",
        "\n",
        "section .text\n",
        "    global _start\n",
        "\n",
        "_start:\n",
        "    ; ---------------------------------------------------------------------------------------\n",
        "    ; COMPLETAR CÓDIGO (puede crear las etiquetas adicionales que crea convenientes)\n",
        "    ; ---------------------------------------------------------------------------------------\n",
        "\n",
        "_end:\n",
        "    mov rax, 0x3C\n",
        "    mov rdi, 0\n",
        "    syscall\n",
        "```"
      ],
      "metadata": {
        "id": "RGy_S6DKMSS3"
      }
    },
    {
      "cell_type": "markdown",
      "source": [
        "a) **(6.5 p)** Implemente el código requerido. El programa creado debe tener el nombre  `P2.asm`"
      ],
      "metadata": {
        "id": "uE43JrATMBJs"
      }
    },
    {
      "cell_type": "code",
      "source": [
        "%%file P2.asm"
      ],
      "metadata": {
        "id": "fzzM9Ps6MHFm"
      },
      "execution_count": null,
      "outputs": []
    },
    {
      "cell_type": "markdown",
      "source": [
        "b) **(1p)** Implemente un script en Bash con el nombre `P2.sh`, el cual debe contener el código necesario para desensamblar y enlazar su código, de tal manera de que el ejecutable con el nombre `P2` sea generado al ejecutar el script. Debe incluir la bandera que permite el uso del depurador GDB.\n",
        "\n"
      ],
      "metadata": {
        "id": "XF7IwLqe8qT-"
      }
    },
    {
      "cell_type": "code",
      "source": [
        "%%file P2.sh"
      ],
      "metadata": {
        "id": "SBozz4yXMK6b"
      },
      "execution_count": null,
      "outputs": []
    }
  ]
}